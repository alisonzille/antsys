{
  "nbformat": 4,
  "nbformat_minor": 0,
  "metadata": {
    "colab": {
      "name": "salesman-antsys.ipynb",
      "provenance": [],
      "collapsed_sections": []
    },
    "kernelspec": {
      "name": "python3",
      "display_name": "Python 3"
    },
    "language_info": {
      "name": "python"
    }
  },
  "cells": [
    {
      "cell_type": "markdown",
      "metadata": {
        "id": "3Ud7Dmb21Joz"
      },
      "source": [
        "#**antsys**\n",
        "A general purpose ant colony optimization system.\n",
        "<br/><br/>**Overview**\n",
        "<br/>The Ant Colony Optimization (ACO) is a technique, inspired by the foraging behavior of ants, to find good solutions for discrete optimization problems. Its central metaphor resides in the indirect communication mechanism through chemical signals (pheromones) used by many species of social ants in their search for food sources.\n",
        "<br/>The same inspiration was build in the **antsys** package, wich takes advantage of *python* flexibility to be easily applied to different optimization problems.\n",
        "<br/><br/>**Installation**\n",
        "<br/>Installation via ```pip```"
      ]
    },
    {
      "cell_type": "code",
      "metadata": {
        "colab": {
          "base_uri": "https://localhost:8080/"
        },
        "id": "mPPn0IsrtsyQ",
        "outputId": "fa7da482-382b-4abb-e061-3265d80f83f6"
      },
      "source": [
        "!pip3 install antsys"
      ],
      "execution_count": 1,
      "outputs": [
        {
          "output_type": "stream",
          "name": "stdout",
          "text": [
            "Collecting antsys\n",
            "  Downloading antsys-0.1.33.tar.gz (7.5 kB)\n",
            "Requirement already satisfied: numpy in /usr/local/lib/python3.7/dist-packages (from antsys) (1.19.5)\n",
            "Building wheels for collected packages: antsys\n",
            "  Building wheel for antsys (setup.py) ... \u001b[?25l\u001b[?25hdone\n",
            "  Created wheel for antsys: filename=antsys-0.1.33-py3-none-any.whl size=8255 sha256=8ea96171eb5604f42be8ae25d105aacb2ade7b44c7d5b3fe554b1a9ee972e72b\n",
            "  Stored in directory: /root/.cache/pip/wheels/cd/b4/8d/a7b18261d13ee31a2949f93146c413bf35904b55696023b547\n",
            "Successfully built antsys\n",
            "Installing collected packages: antsys\n",
            "Successfully installed antsys-0.1.33\n"
          ]
        }
      ]
    },
    {
      "cell_type": "markdown",
      "metadata": {
        "id": "-yA_MBRl1jb5"
      },
      "source": [
        "**Usage Example:** *Travelling Salesman Problem*\n",
        "<br/>The Travelling Salesman Problem (TSP) is the challenge of finding the shortest yet most efficient route for a person to take given a list of specific destinations. It is a well-known optimization problem and commonly solved by ACO algorithm.\n",
        "1 - Import necessary packages and modules"
      ]
    },
    {
      "cell_type": "code",
      "metadata": {
        "id": "-gv_7lWafdXb"
      },
      "source": [
        "from antsys import AntWorld\n",
        "from antsys import AntSystem\n",
        "import numpy as np\n",
        "import random"
      ],
      "execution_count": 2,
      "outputs": []
    },
    {
      "cell_type": "markdown",
      "metadata": {
        "id": "-LWdnkEI11-A"
      },
      "source": [
        "2 - Generate a travelling salesman problem instance"
      ]
    },
    {
      "cell_type": "code",
      "metadata": {
        "colab": {
          "base_uri": "https://localhost:8080/"
        },
        "id": "cUBSBkzE15nD",
        "outputId": "0e783c61-70c0-4719-d49d-b08df22b040e"
      },
      "source": [
        "# generate cities \n",
        "print('cities:')\n",
        "print('| id |    x    |    y    |')\n",
        "cities = []\n",
        "for city in range(10):\n",
        "  x = random.uniform(-100, 100)\n",
        "  y = random.uniform(-100, 100)\n",
        "  cities.append((city, x, y))\n",
        "  #print(cities[city])\n",
        "  print('|%4i|%9.4f|%9.4f|' % cities[city])"
      ],
      "execution_count": 3,
      "outputs": [
        {
          "output_type": "stream",
          "name": "stdout",
          "text": [
            "cities:\n",
            "| id |    x    |    y    |\n",
            "|   0|  -2.6135| -62.0508|\n",
            "|   1| -79.3048|  60.4374|\n",
            "|   2| -56.7846| -22.0359|\n",
            "|   3|  70.6315|  54.9599|\n",
            "|   4| -25.0491|  91.3655|\n",
            "|   5| -70.2704| -28.2862|\n",
            "|   6| -98.4354|  20.6471|\n",
            "|   7|  85.0728| -22.6103|\n",
            "|   8|  41.9122| -63.1704|\n",
            "|   9|  -7.9679| -72.2777|\n"
          ]
        }
      ]
    },
    {
      "cell_type": "markdown",
      "metadata": {
        "id": "Gklp-ZTM2Dju"
      },
      "source": [
        "3 - The function ```salesman_rules``` will append the euclidean distance between cities to the edges."
      ]
    },
    {
      "cell_type": "code",
      "metadata": {
        "id": "O6e2tPY32IUg"
      },
      "source": [
        "def salesman_rules(start, end):\n",
        "  return [((start[1]-end[1])**2+(start[2]-end[2])**2)**0.5]"
      ],
      "execution_count": 4,
      "outputs": []
    },
    {
      "cell_type": "markdown",
      "metadata": {
        "id": "OnYLNreD2MKU"
      },
      "source": [
        "4 - The function ```salesman_cost``` will be used to calculate the cost of any possible solution (```path```)."
      ]
    },
    {
      "cell_type": "code",
      "metadata": {
        "id": "vuSsFFUC2PH3"
      },
      "source": [
        "def salesman_cost(path):\n",
        "  cost = 0\n",
        "  for edge in path:\n",
        "    cost+=edge.info\n",
        "  return cost"
      ],
      "execution_count": 5,
      "outputs": []
    },
    {
      "cell_type": "markdown",
      "metadata": {
        "id": "2olVfgbF2YJX"
      },
      "source": [
        "5 - The ```salesman_heuristic``` is a simple heuristic that will help the ants to make better choices. Edges with small distances have a slightly higher probability of selection.\n"
      ]
    },
    {
      "cell_type": "code",
      "metadata": {
        "id": "KZVzO1ZO2cVl"
      },
      "source": [
        "def salesman_heuristic(path, candidate):\n",
        "  return candidate.info"
      ],
      "execution_count": 6,
      "outputs": []
    },
    {
      "cell_type": "markdown",
      "metadata": {
        "id": "zjDbSD3G2iUV"
      },
      "source": [
        "6 - This function shows the details of a possible solution (```sys_resp```)."
      ]
    },
    {
      "cell_type": "code",
      "metadata": {
        "id": "mPoeQ0vz2lnl"
      },
      "source": [
        "def print_solution(sys_resp):\n",
        "  print('total cost = %g' % sys_resp[0])\n",
        "  print('path:')\n",
        "  print('| id |    x    |    y    |--distance-->| id |    x    |    y    |')\n",
        "  for edge in sys_resp[2]:\n",
        "    print('|%4i|%9.4f|%9.4f|--%8.4f-->|%4i|%9.4f|%9.4f|' % \n",
        "          (edge.start[0], edge.start[1], edge.start[2], edge.info, edge.end[0], \n",
        "           edge.end[1], edge.end[2]))"
      ],
      "execution_count": 7,
      "outputs": []
    },
    {
      "cell_type": "markdown",
      "metadata": {
        "id": "X2H-Mde42y-b"
      },
      "source": [
        "7 - The world (```new_world```) is created from the nodes (```cities```) as a complete graph. In this point, ```salesman_rules```, ```salesman_cost``` and ```salesman_heuristic``` are defined as respectively ```r_func```, ```c_func``` and ```h_func```. These functions are bound to the world and the first one has an important role in its structure."
      ]
    },
    {
      "cell_type": "code",
      "metadata": {
        "id": "9O6CDadU20dY"
      },
      "source": [
        "new_world = AntWorld(cities, salesman_rules, salesman_cost, salesman_heuristic, True)"
      ],
      "execution_count": 8,
      "outputs": []
    },
    {
      "cell_type": "markdown",
      "metadata": {
        "id": "ZCTNk-11248r"
      },
      "source": [
        "8 - Configure ```ant_opt``` as an ```AntSystem```."
      ]
    },
    {
      "cell_type": "code",
      "metadata": {
        "id": "2wQdu4tr28XV"
      },
      "source": [
        "ant_opt = AntSystem(world=new_world, n_ants=50)"
      ],
      "execution_count": 9,
      "outputs": []
    },
    {
      "cell_type": "markdown",
      "metadata": {
        "id": "VbaA8gW03EIn"
      },
      "source": [
        "9 - Execute the optimization loop."
      ]
    },
    {
      "cell_type": "code",
      "metadata": {
        "colab": {
          "base_uri": "https://localhost:8080/"
        },
        "id": "ICwukjuy3Hqz",
        "outputId": "e806b1ff-fe5b-4627-9dea-08cd022c13b7"
      },
      "source": [
        "ant_opt.optimize(50,30)"
      ],
      "execution_count": 10,
      "outputs": [
        {
          "output_type": "stream",
          "name": "stdout",
          "text": [
            "| iter |         min        |         max        |        best        |\n",
            "|     1|             682.227|             1152.16|             682.227|\n",
            "|     2|             648.235|             1073.67|             648.235|\n",
            "|     3|             627.678|             1142.17|             627.678|\n",
            "|     4|             627.261|             1212.01|             627.261|\n",
            "|     5|              630.04|                1043|             627.261|\n",
            "|     6|             659.387|             1177.28|             627.261|\n",
            "|     7|              559.47|              1085.3|              559.47|\n",
            "|     8|             624.524|             1114.98|              559.47|\n",
            "|     9|             544.565|             1185.62|             544.565|\n",
            "|    10|             619.277|             1106.69|             544.565|\n",
            "|    11|             619.277|             1084.73|             544.565|\n",
            "|    12|             544.565|             1196.48|             544.565|\n",
            "|    13|             548.026|             1115.48|             544.565|\n",
            "|    14|             544.565|             1111.99|             544.565|\n",
            "|    15|             548.026|             1096.68|             544.565|\n",
            "|    16|             548.026|             1148.94|             544.565|\n",
            "|    17|             544.565|             1168.56|             544.565|\n",
            "|    18|             656.901|             1088.19|             544.565|\n",
            "|    19|             548.026|             1089.48|             544.565|\n",
            "|    20|             553.959|             1101.67|             544.565|\n",
            "|    21|             544.565|             1059.71|             544.565|\n",
            "|    22|             548.026|             1086.95|             544.565|\n",
            "|    23|             620.646|             1085.92|             544.565|\n",
            "|    24|             682.221|             1222.11|             544.565|\n",
            "|    25|             637.831|             1097.24|             544.565|\n",
            "|    26|             553.959|              1093.5|             544.565|\n",
            "|    27|             548.026|             1258.58|             544.565|\n",
            "|    28|             645.545|             1029.48|             544.565|\n",
            "|    29|             616.751|              1107.7|             544.565|\n",
            "|    30|             661.774|             1162.19|             544.565|\n",
            "|    31|             641.412|             1228.15|             544.565|\n",
            "|    32|             548.026|             1112.47|             544.565|\n",
            "|    33|             548.026|             1091.06|             544.565|\n",
            "|    34|             620.211|             1139.22|             544.565|\n",
            "|    35|             544.565|             1165.41|             544.565|\n",
            "|    36|             725.204|             1331.17|             544.565|\n",
            "|    37|             548.026|                1102|             544.565|\n",
            "|    38|             544.565|             1106.99|             544.565|\n",
            "|    39|             627.261|             1101.38|             544.565|\n"
          ]
        }
      ]
    },
    {
      "cell_type": "markdown",
      "metadata": {
        "id": "H5tpCBSa3OWd"
      },
      "source": [
        "10 - Show details about the best solution found."
      ]
    },
    {
      "cell_type": "code",
      "metadata": {
        "colab": {
          "base_uri": "https://localhost:8080/"
        },
        "id": "H5ywlSjz3RzP",
        "outputId": "ee0013ae-0794-4c2d-b324-14466e6243b2"
      },
      "source": [
        "print_solution(ant_opt.g_best)"
      ],
      "execution_count": 11,
      "outputs": [
        {
          "output_type": "stream",
          "name": "stdout",
          "text": [
            "total cost = 544.565\n",
            "path:\n",
            "| id |    x    |    y    |--distance-->| id |    x    |    y    |\n",
            "|   6| -98.4354|  20.6471|-- 56.4600-->|   5| -70.2704| -28.2862|\n",
            "|   5| -70.2704| -28.2862|-- 14.8638-->|   2| -56.7846| -22.0359|\n",
            "|   2| -56.7846| -22.0359|-- 70.0521-->|   9|  -7.9679| -72.2777|\n",
            "|   9|  -7.9679| -72.2777|-- 11.5438-->|   0|  -2.6135| -62.0508|\n",
            "|   0|  -2.6135| -62.0508|-- 44.5398-->|   8|  41.9122| -63.1704|\n",
            "|   8|  41.9122| -63.1704|-- 59.2280-->|   7|  85.0728| -22.6103|\n",
            "|   7|  85.0728| -22.6103|-- 78.9030-->|   3|  70.6315|  54.9599|\n",
            "|   3|  70.6315|  54.9599|--102.3726-->|   4| -25.0491|  91.3655|\n",
            "|   4| -25.0491|  91.3655|-- 62.4518-->|   1| -79.3048|  60.4374|\n",
            "|   1| -79.3048|  60.4374|-- 44.1503-->|   6| -98.4354|  20.6471|\n"
          ]
        }
      ]
    }
  ]
}