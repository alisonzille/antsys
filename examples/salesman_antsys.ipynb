{
  "nbformat": 4,
  "nbformat_minor": 0,
  "metadata": {
    "colab": {
      "provenance": []
    },
    "kernelspec": {
      "name": "python3",
      "display_name": "Python 3"
    },
    "language_info": {
      "name": "python"
    }
  },
  "cells": [
    {
      "cell_type": "markdown",
      "metadata": {
        "id": "3Ud7Dmb21Joz"
      },
      "source": [
        "#**antsys**\n",
        "A general purpose ant colony optimization system.\n",
        "<br/><br/>**Overview**\n",
        "<br/>The Ant Colony Optimization (ACO) is a technique, inspired by the foraging behavior of ants, to find good solutions for discrete optimization problems. Its central metaphor resides in the indirect communication mechanism through chemical signals (pheromones) used by many species of social ants in their search for food sources.\n",
        "<br/>The same inspiration was build in the **antsys** package, wich takes advantage of *python* flexibility to be easily applied to different optimization problems.\n",
        "<br/><br/>**Installation**\n",
        "<br/>Installation via ```pip```"
      ]
    },
    {
      "cell_type": "code",
      "metadata": {
        "colab": {
          "base_uri": "https://localhost:8080/"
        },
        "id": "mPPn0IsrtsyQ",
        "outputId": "be5cf55a-3197-4dbd-a663-fb8ef98434a1"
      },
      "source": [
        "!pip3 install antsys"
      ],
      "execution_count": 1,
      "outputs": [
        {
          "output_type": "stream",
          "name": "stdout",
          "text": [
            "Looking in indexes: https://pypi.org/simple, https://us-python.pkg.dev/colab-wheels/public/simple/\n",
            "Collecting antsys\n",
            "  Downloading antsys-0.1.44-py3-none-any.whl (20 kB)\n",
            "Requirement already satisfied: numpy in /usr/local/lib/python3.8/dist-packages (from antsys) (1.21.6)\n",
            "Installing collected packages: antsys\n",
            "Successfully installed antsys-0.1.44\n"
          ]
        }
      ]
    },
    {
      "cell_type": "markdown",
      "metadata": {
        "id": "-yA_MBRl1jb5"
      },
      "source": [
        "**Usage Example:** *Travelling Salesman Problem*\n",
        "<br/>The Travelling Salesman Problem (TSP) is the challenge of finding the shortest yet most efficient route for a person to take given a list of specific destinations. It is a well-known optimization problem and commonly solved by ACO algorithm.\n",
        "1 - Import necessary packages and modules"
      ]
    },
    {
      "cell_type": "code",
      "metadata": {
        "id": "-gv_7lWafdXb"
      },
      "source": [
        "from antsys import AntWorld\n",
        "from antsys import AntSystem\n",
        "import numpy as np\n",
        "import random"
      ],
      "execution_count": 2,
      "outputs": []
    },
    {
      "cell_type": "markdown",
      "metadata": {
        "id": "-LWdnkEI11-A"
      },
      "source": [
        "2 - Generate a travelling salesman problem instance"
      ]
    },
    {
      "cell_type": "code",
      "metadata": {
        "colab": {
          "base_uri": "https://localhost:8080/"
        },
        "id": "cUBSBkzE15nD",
        "outputId": "4f655875-a211-4c3d-c00c-79d39e5b9223"
      },
      "source": [
        "# generate cities \n",
        "print('cities:')\n",
        "print('| id |    x    |    y    |')\n",
        "cities = []\n",
        "for city in range(50):\n",
        "  x = random.uniform(-100, 100)\n",
        "  y = random.uniform(-100, 100)\n",
        "  cities.append((city, x, y))\n",
        "  print('|%4i|%9.4f|%9.4f|' % cities[city])"
      ],
      "execution_count": 12,
      "outputs": [
        {
          "output_type": "stream",
          "name": "stdout",
          "text": [
            "cities:\n",
            "| id |    x    |    y    |\n",
            "|   0| -80.3708|  72.6595|\n",
            "|   1| -95.7683|  93.9065|\n",
            "|   2|  99.0220|  80.3626|\n",
            "|   3| -73.8535|  37.0218|\n",
            "|   4| -88.8055|  65.9754|\n",
            "|   5| -98.6521|  77.4262|\n",
            "|   6|  78.3067|  17.8582|\n",
            "|   7|  35.7794|  70.3752|\n",
            "|   8|  67.1254|  71.5141|\n",
            "|   9|  93.3053| -59.9757|\n",
            "|  10| -52.1704| -19.5192|\n",
            "|  11| -56.1430| -98.5916|\n",
            "|  12| -40.9005| -72.8663|\n",
            "|  13| -63.6439|  42.4272|\n",
            "|  14|   8.4352| -50.5051|\n",
            "|  15|  43.0724| -51.3381|\n",
            "|  16|  36.8843|  19.3791|\n",
            "|  17| -95.7230| -81.7074|\n",
            "|  18|  68.7962| -88.3222|\n",
            "|  19|  34.3030| -87.9405|\n",
            "|  20| -48.7048| -61.6023|\n",
            "|  21|  86.5020| -45.8723|\n",
            "|  22|  81.8472|  37.3393|\n",
            "|  23| -90.4294|  -7.2372|\n",
            "|  24|  49.8679|  94.4879|\n",
            "|  25|  52.0682|  47.9341|\n",
            "|  26|  69.5251|  78.2205|\n",
            "|  27|  74.6019|  79.6054|\n",
            "|  28|  20.5050| -37.5020|\n",
            "|  29|  11.1897| -61.9598|\n",
            "|  30|  55.3340|  42.5437|\n",
            "|  31|  30.6652| -85.0287|\n",
            "|  32| -46.5561| -58.8537|\n",
            "|  33|  69.0053|  -2.4382|\n",
            "|  34| -19.4773| -25.2220|\n",
            "|  35|  -9.1505|  37.7060|\n",
            "|  36| -90.2797|  48.7760|\n",
            "|  37|  66.0284|  11.8853|\n",
            "|  38|  39.8916|  10.1387|\n",
            "|  39| -82.2165| -48.0657|\n",
            "|  40|  91.1141| -68.3656|\n",
            "|  41|  25.0589| -36.5742|\n",
            "|  42|  64.5112| -82.1483|\n",
            "|  43|  -5.7680| -58.7645|\n",
            "|  44| -64.0470|  59.1317|\n",
            "|  45|  56.6567|  -7.8173|\n",
            "|  46| -78.1492|  29.5858|\n",
            "|  47|  69.0342|  34.9979|\n",
            "|  48|  43.2962|  36.5564|\n",
            "|  49|  38.4572| -81.0117|\n"
          ]
        }
      ]
    },
    {
      "cell_type": "markdown",
      "metadata": {
        "id": "Gklp-ZTM2Dju"
      },
      "source": [
        "3 - The function ```salesman_rules``` will append the euclidean distance between cities to the edges."
      ]
    },
    {
      "cell_type": "code",
      "metadata": {
        "id": "O6e2tPY32IUg"
      },
      "source": [
        "def salesman_rules(start, end):\n",
        "  return [((start[1]-end[1])**2+(start[2]-end[2])**2)**0.5]"
      ],
      "execution_count": 13,
      "outputs": []
    },
    {
      "cell_type": "markdown",
      "metadata": {
        "id": "OnYLNreD2MKU"
      },
      "source": [
        "4 - The function ```salesman_cost``` will be used to calculate the cost of any possible solution (```path```)."
      ]
    },
    {
      "cell_type": "code",
      "metadata": {
        "id": "vuSsFFUC2PH3"
      },
      "source": [
        "def salesman_cost(path):\n",
        "  cost = 0\n",
        "  for edge in path:\n",
        "    cost+=edge.info\n",
        "  return cost"
      ],
      "execution_count": 14,
      "outputs": []
    },
    {
      "cell_type": "markdown",
      "metadata": {
        "id": "2olVfgbF2YJX"
      },
      "source": [
        "5 - The ```salesman_heuristic``` is a simple heuristic that will help the ants to make better choices. Edges with small distances have a slightly higher probability of selection.\n"
      ]
    },
    {
      "cell_type": "code",
      "metadata": {
        "id": "KZVzO1ZO2cVl"
      },
      "source": [
        "def salesman_heuristic(path, candidate):\n",
        "  return candidate.info"
      ],
      "execution_count": 15,
      "outputs": []
    },
    {
      "cell_type": "markdown",
      "metadata": {
        "id": "zjDbSD3G2iUV"
      },
      "source": [
        "6 - This function shows the details of a possible solution (```sys_resp```)."
      ]
    },
    {
      "cell_type": "code",
      "metadata": {
        "id": "mPoeQ0vz2lnl"
      },
      "source": [
        "def print_solution(sys_resp):\n",
        "  print('total cost = %g' % sys_resp[0])\n",
        "  print('path:')\n",
        "  print('| id |    x    |    y    |--distance-->| id |    x    |    y    |')\n",
        "  for edge in sys_resp[2]:\n",
        "    print('|%4i|%9.4f|%9.4f|--%8.4f-->|%4i|%9.4f|%9.4f|' % \n",
        "          (edge.start[0], edge.start[1], edge.start[2], edge.info, edge.end[0], \n",
        "           edge.end[1], edge.end[2]))"
      ],
      "execution_count": 16,
      "outputs": []
    },
    {
      "cell_type": "markdown",
      "metadata": {
        "id": "X2H-Mde42y-b"
      },
      "source": [
        "7 - The world (```new_world```) is created from the nodes (```cities```) as a directed complete graph. In this point, ```salesman_rules```, ```salesman_cost``` and ```salesman_heuristic``` are defined as respectively ```r_func```, ```c_func``` and ```h_func```. These functions are bound to the world and the first one has an important role in its structure."
      ]
    },
    {
      "cell_type": "code",
      "metadata": {
        "id": "9O6CDadU20dY"
      },
      "source": [
        "new_world = AntWorld(cities, salesman_rules, salesman_cost, salesman_heuristic)"
      ],
      "execution_count": 17,
      "outputs": []
    },
    {
      "cell_type": "markdown",
      "metadata": {
        "id": "ZCTNk-11248r"
      },
      "source": [
        "8 - Configure ```ant_opt``` as an ```AntSystem```."
      ]
    },
    {
      "cell_type": "code",
      "metadata": {
        "id": "2wQdu4tr28XV"
      },
      "source": [
        "ant_opt = AntSystem(world=new_world, n_ants=100)"
      ],
      "execution_count": 19,
      "outputs": []
    },
    {
      "cell_type": "markdown",
      "metadata": {
        "id": "VbaA8gW03EIn"
      },
      "source": [
        "9 - Execute the optimization loop."
      ]
    },
    {
      "cell_type": "code",
      "metadata": {
        "colab": {
          "base_uri": "https://localhost:8080/"
        },
        "id": "ICwukjuy3Hqz",
        "outputId": "256f78fd-7b71-40f3-83cb-315165ec54aa"
      },
      "source": [
        "ant_opt.optimize(100,20)"
      ],
      "execution_count": 20,
      "outputs": [
        {
          "output_type": "stream",
          "name": "stdout",
          "text": [
            "| iter |         min        |         max        |        best        |\n",
            "|     1|             3573.74|             5531.21|             3573.74|\n",
            "|     2|             3457.23|             5241.54|             3457.23|\n",
            "|     3|             3372.03|              5076.8|             3372.03|\n",
            "|     4|             3372.05|             5056.03|             3372.03|\n",
            "|     5|             3311.53|             5078.09|             3311.53|\n",
            "|     6|             3519.36|             5203.59|             3311.53|\n",
            "|     7|             3412.66|             5009.66|             3311.53|\n",
            "|     8|             3493.86|             5153.51|             3311.53|\n",
            "|     9|             3553.62|              5033.1|             3311.53|\n",
            "|    10|             3452.81|             5200.52|             3311.53|\n",
            "|    11|             3260.17|             5206.31|             3260.17|\n",
            "|    12|             3355.21|             4951.29|             3260.17|\n",
            "|    13|                3233|             5105.69|                3233|\n",
            "|    14|             3567.34|             4996.35|                3233|\n",
            "|    15|             3461.98|             5447.79|                3233|\n",
            "|    16|             3506.69|             5428.47|                3233|\n",
            "|    17|              3600.8|             5114.76|                3233|\n",
            "|    18|             3620.54|              4969.7|                3233|\n",
            "|    19|             3465.46|             4984.74|                3233|\n",
            "|    20|             3647.13|                4986|                3233|\n",
            "|    21|              3540.2|             5159.54|                3233|\n",
            "|    22|             3563.15|             5090.45|                3233|\n",
            "|    23|             3686.53|             5190.38|                3233|\n",
            "|    24|             3592.45|             5209.88|                3233|\n",
            "|    25|             3607.81|             5300.65|                3233|\n",
            "|    26|             3387.21|              5092.8|                3233|\n",
            "|    27|             3552.48|             5277.03|                3233|\n",
            "|    28|             3430.53|             5098.68|                3233|\n",
            "|    29|             3378.78|             4924.82|                3233|\n",
            "|    30|             3172.24|             4942.52|             3172.24|\n",
            "|    31|             3220.31|             5033.52|             3172.24|\n",
            "|    32|             3502.24|              4986.6|             3172.24|\n",
            "|    33|             3471.31|             4881.32|             3172.24|\n",
            "|    34|             3430.17|             5023.05|             3172.24|\n",
            "|    35|             3299.52|             5003.59|             3172.24|\n",
            "|    36|             3230.33|             5134.78|             3172.24|\n",
            "|    37|             3350.12|             4924.08|             3172.24|\n",
            "|    38|             3525.22|             5003.62|             3172.24|\n",
            "|    39|              3609.7|             5273.32|             3172.24|\n",
            "|    40|             3292.92|              5188.2|             3172.24|\n",
            "|    41|             3627.41|             5008.56|             3172.24|\n",
            "|    42|             3682.99|             5077.26|             3172.24|\n",
            "|    43|             3617.31|             4990.02|             3172.24|\n",
            "|    44|             3275.89|             5100.69|             3172.24|\n",
            "|    45|             3516.66|              5078.7|             3172.24|\n",
            "|    46|             3440.83|             5229.41|             3172.24|\n",
            "|    47|             3433.38|             5243.28|             3172.24|\n",
            "|    48|              3374.8|             5015.25|             3172.24|\n",
            "|    49|             3527.73|             5095.14|             3172.24|\n",
            "|    50|             3584.58|             5103.55|             3172.24|\n"
          ]
        }
      ]
    },
    {
      "cell_type": "markdown",
      "metadata": {
        "id": "H5tpCBSa3OWd"
      },
      "source": [
        "10 - Show details about the best solution found."
      ]
    },
    {
      "cell_type": "code",
      "metadata": {
        "colab": {
          "base_uri": "https://localhost:8080/"
        },
        "id": "H5ywlSjz3RzP",
        "outputId": "af5ca12a-ae31-4323-b861-2bf29fff6db9"
      },
      "source": [
        "print_solution(ant_opt.g_best)"
      ],
      "execution_count": 21,
      "outputs": [
        {
          "output_type": "stream",
          "name": "stdout",
          "text": [
            "total cost = 3172.24\n",
            "path:\n",
            "| id |    x    |    y    |--distance-->| id |    x    |    y    |\n",
            "|  45|  56.6567|  -7.8173|-- 33.6243-->|  16|  36.8843|  19.3791|\n",
            "|  16|  36.8843|  19.3791|-- 41.4503-->|   6|  78.3067|  17.8582|\n",
            "|   6|  78.3067|  17.8582|-- 19.8002-->|  22|  81.8472|  37.3393|\n",
            "|  22|  81.8472|  37.3393|-- 65.4876-->|  24|  49.8679|  94.4879|\n",
            "|  24|  49.8679|  94.4879|--153.0014-->|  10| -52.1704| -19.5192|\n",
            "|  10| -52.1704| -19.5192|-- 79.0900-->|  41|  25.0589| -36.5742|\n",
            "|  41|  25.0589| -36.5742|-- 67.7555-->|  18|  68.7962| -88.3222|\n",
            "|  18|  68.7962| -88.3222|--186.1069-->|  13| -63.6439|  42.4272|\n",
            "|  13| -63.6439|  42.4272|-- 19.3728-->|  46| -78.1492|  29.5858|\n",
            "|  46| -78.1492|  29.5858|-- 32.7388-->|  44| -64.0470|  59.1317|\n",
            "|  44| -64.0470|  59.1317|--100.4576-->|   7|  35.7794|  70.3752|\n",
            "|   7|  35.7794|  70.3752|-- 65.8489-->|  37|  66.0284|  11.8853|\n",
            "|  37|  66.0284|  11.8853|-- 59.6389-->|   8|  67.1254|  71.5141|\n",
            "|   8|  67.1254|  71.5141|-- 67.1463-->|  38|  39.8916|  10.1387|\n",
            "|  38|  39.8916|  10.1387|-- 69.1017-->|  34| -19.4773| -25.2220|\n",
            "|  34| -19.4773| -25.2220|-- 52.2392-->|  12| -40.9005| -72.8663|\n",
            "|  12| -40.9005| -72.8663|--114.7227-->|   3| -73.8535|  37.0218|\n",
            "|   3| -73.8535|  37.0218|-- 47.4076-->|   5| -98.6521|  77.4262|\n",
            "|   5| -98.6521|  77.4262|-- 15.1021-->|   4| -88.8055|  65.9754|\n",
            "|   4| -88.8055|  65.9754|-- 84.5227-->|  35|  -9.1505|  37.7060|\n",
            "|  35|  -9.1505|  37.7060|-- 52.4593-->|  48|  43.2962|  36.5564|\n",
            "|  48|  43.2962|  36.5564|-- 53.2285-->|  27|  74.6019|  79.6054|\n",
            "|  27|  74.6019|  79.6054|-- 24.4318-->|   2|  99.0220|  80.3626|\n",
            "|   2|  99.0220|  80.3626|-- 29.5745-->|  26|  69.5251|  78.2205|\n",
            "|  26|  69.5251|  78.2205|-- 34.9572-->|  25|  52.0682|  47.9341|\n",
            "|  25|  52.0682|  47.9341|-- 91.0800-->|  28|  20.5050| -37.5020|\n",
            "|  28|  20.5050| -37.5020|-- 26.1717-->|  29|  11.1897| -61.9598|\n",
            "|  29|  11.1897| -61.9598|-- 17.2561-->|  43|  -5.7680| -58.7645|\n",
            "|  43|  -5.7680| -58.7645|-- 77.1935-->|  39| -82.2165| -48.0657|\n",
            "|  39| -82.2165| -48.0657|--118.7794-->|  31|  30.6652| -85.0287|\n",
            "|  31|  30.6652| -85.0287|-- 35.9026-->|  15|  43.0724| -51.3381|\n",
            "|  15|  43.0724| -51.3381|--109.8935-->|  11| -56.1430| -98.5916|\n",
            "|  11| -56.1430| -98.5916|-- 43.0309-->|  17| -95.7230| -81.7074|\n",
            "|  17| -95.7230| -81.7074|-- 51.1364-->|  20| -48.7048| -61.6023|\n",
            "|  20| -48.7048| -61.6023|--147.2089-->|  30|  55.3340|  42.5437|\n",
            "|  30|  55.3340|  42.5437|-- 15.6407-->|  47|  69.0342|  34.9979|\n",
            "|  47|  69.0342|  34.9979|-- 37.4361-->|  33|  69.0053|  -2.4382|\n",
            "|  33|  69.0053|  -2.4382|-- 62.4584-->|   9|  93.3053| -59.9757|\n",
            "|   9|  93.3053| -59.9757|-- 58.7437-->|  49|  38.4572| -81.0117|\n",
            "|  49|  38.4572| -81.0117|-- 26.0787-->|  42|  64.5112| -82.1483|\n",
            "|  42|  64.5112| -82.1483|-- 30.7585-->|  19|  34.3030| -87.9405|\n",
            "|  19|  34.3030| -87.9405|-- 60.0889-->|  40|  91.1141| -68.3656|\n",
            "|  40|  91.1141| -68.3656|-- 84.5860-->|  14|   8.4352| -50.5051|\n",
            "|  14|   8.4352| -50.5051|-- 55.6214-->|  32| -46.5561| -58.8537|\n",
            "|  32| -46.5561| -58.8537|-- 67.7431-->|  23| -90.4294|  -7.2372|\n",
            "|  23| -90.4294|  -7.2372|-- 56.0134-->|  36| -90.2797|  48.7760|\n",
            "|  36| -90.2797|  48.7760|-- 25.8574-->|   0| -80.3708|  72.6595|\n",
            "|   0| -80.3708|  72.6595|-- 26.2396-->|   1| -95.7683|  93.9065|\n",
            "|   1| -95.7683|  93.9065|--229.6967-->|  21|  86.5020| -45.8723|\n",
            "|  21|  86.5020| -45.8723|-- 48.3624-->|  45|  56.6567|  -7.8173|\n"
          ]
        }
      ]
    }
  ]
}
