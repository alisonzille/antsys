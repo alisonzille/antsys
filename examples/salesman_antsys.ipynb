{
  "nbformat": 4,
  "nbformat_minor": 0,
  "metadata": {
    "colab": {
      "provenance": []
    },
    "kernelspec": {
      "name": "python3",
      "display_name": "Python 3"
    },
    "language_info": {
      "name": "python"
    }
  },
  "cells": [
    {
      "cell_type": "markdown",
      "metadata": {
        "id": "3Ud7Dmb21Joz"
      },
      "source": [
        "#**antsys**\n",
        "A general purpose ant colony optimization system.\n",
        "<br/><br/>**Overview**\n",
        "<br/>The Ant Colony Optimization (ACO) is a technique, inspired by the foraging behavior of ants, to find good solutions for discrete optimization problems. Its central metaphor resides in the indirect communication mechanism through chemical signals (pheromones) used by many species of social ants in their search for food sources.\n",
        "<br/>The same inspiration was build in the **antsys** package, wich takes advantage of *python* flexibility to be easily applied to different optimization problems.\n",
        "<br/><br/>**Installation**\n",
        "<br/>Installation via ```pip```"
      ]
    },
    {
      "cell_type": "code",
      "metadata": {
        "colab": {
          "base_uri": "https://localhost:8080/"
        },
        "id": "mPPn0IsrtsyQ",
        "outputId": "9659421f-a536-4044-909a-db1803754354"
      },
      "source": [
        "!pip3 install antsys"
      ],
      "execution_count": 1,
      "outputs": [
        {
          "output_type": "stream",
          "name": "stdout",
          "text": [
            "Looking in indexes: https://pypi.org/simple, https://us-python.pkg.dev/colab-wheels/public/simple/\n",
            "Collecting antsys\n",
            "  Downloading antsys-0.1.42-py3-none-any.whl (20 kB)\n",
            "Requirement already satisfied: numpy in /usr/local/lib/python3.8/dist-packages (from antsys) (1.21.6)\n",
            "Installing collected packages: antsys\n",
            "Successfully installed antsys-0.1.42\n"
          ]
        }
      ]
    },
    {
      "cell_type": "markdown",
      "metadata": {
        "id": "-yA_MBRl1jb5"
      },
      "source": [
        "**Usage Example:** *Travelling Salesman Problem*\n",
        "<br/>The Travelling Salesman Problem (TSP) is the challenge of finding the shortest yet most efficient route for a person to take given a list of specific destinations. It is a well-known optimization problem and commonly solved by ACO algorithm.\n",
        "1 - Import necessary packages and modules"
      ]
    },
    {
      "cell_type": "code",
      "metadata": {
        "id": "-gv_7lWafdXb"
      },
      "source": [
        "from antsys import AntWorld\n",
        "from antsys import AntSystem\n",
        "import numpy as np\n",
        "import random"
      ],
      "execution_count": 2,
      "outputs": []
    },
    {
      "cell_type": "markdown",
      "metadata": {
        "id": "-LWdnkEI11-A"
      },
      "source": [
        "2 - Generate a travelling salesman problem instance"
      ]
    },
    {
      "cell_type": "code",
      "metadata": {
        "colab": {
          "base_uri": "https://localhost:8080/"
        },
        "id": "cUBSBkzE15nD",
        "outputId": "3366e824-9312-46f0-c6ba-fb348dcacb83"
      },
      "source": [
        "# generate cities \n",
        "print('cities:')\n",
        "print('| id |    x    |    y    |')\n",
        "cities = []\n",
        "for city in range(10):\n",
        "  x = random.uniform(-100, 100)\n",
        "  y = random.uniform(-100, 100)\n",
        "  cities.append((city, x, y))\n",
        "  print('|%4i|%9.4f|%9.4f|' % cities[city])"
      ],
      "execution_count": 12,
      "outputs": [
        {
          "output_type": "stream",
          "name": "stdout",
          "text": [
            "cities:\n",
            "| id |    x    |    y    |\n",
            "|   0| -67.7381| -28.2975|\n",
            "|   1| -14.2426| -98.9415|\n",
            "|   2| -67.9392| -68.2944|\n",
            "|   3| -52.1306|  -0.9964|\n",
            "|   4|  -1.2637|  -2.6685|\n",
            "|   5| -99.1392| -75.6870|\n",
            "|   6|  57.2112| -13.0749|\n",
            "|   7|  -8.6249| -21.6898|\n",
            "|   8| -68.0393|   9.9109|\n",
            "|   9| -61.5034| -53.8211|\n"
          ]
        }
      ]
    },
    {
      "cell_type": "markdown",
      "metadata": {
        "id": "Gklp-ZTM2Dju"
      },
      "source": [
        "3 - The function ```salesman_rules``` will append the euclidean distance between cities to the edges."
      ]
    },
    {
      "cell_type": "code",
      "metadata": {
        "id": "O6e2tPY32IUg"
      },
      "source": [
        "def salesman_rules(start, end):\n",
        "  return [((start[1]-end[1])**2+(start[2]-end[2])**2)**0.5]"
      ],
      "execution_count": 4,
      "outputs": []
    },
    {
      "cell_type": "markdown",
      "metadata": {
        "id": "OnYLNreD2MKU"
      },
      "source": [
        "4 - The function ```salesman_cost``` will be used to calculate the cost of any possible solution (```path```)."
      ]
    },
    {
      "cell_type": "code",
      "metadata": {
        "id": "vuSsFFUC2PH3"
      },
      "source": [
        "def salesman_cost(path):\n",
        "  cost = 0\n",
        "  for edge in path:\n",
        "    cost+=edge.info\n",
        "  return cost"
      ],
      "execution_count": 5,
      "outputs": []
    },
    {
      "cell_type": "markdown",
      "metadata": {
        "id": "2olVfgbF2YJX"
      },
      "source": [
        "5 - The ```salesman_heuristic``` is a simple heuristic that will help the ants to make better choices. Edges with small distances have a slightly higher probability of selection.\n"
      ]
    },
    {
      "cell_type": "code",
      "metadata": {
        "id": "KZVzO1ZO2cVl"
      },
      "source": [
        "def salesman_heuristic(path, candidate):\n",
        "  return candidate.info"
      ],
      "execution_count": 6,
      "outputs": []
    },
    {
      "cell_type": "markdown",
      "metadata": {
        "id": "zjDbSD3G2iUV"
      },
      "source": [
        "6 - This function shows the details of a possible solution (```sys_resp```)."
      ]
    },
    {
      "cell_type": "code",
      "metadata": {
        "id": "mPoeQ0vz2lnl"
      },
      "source": [
        "def print_solution(sys_resp):\n",
        "  print('total cost = %g' % sys_resp[0])\n",
        "  print('path:')\n",
        "  print('| id |    x    |    y    |--distance-->| id |    x    |    y    |')\n",
        "  for edge in sys_resp[2]:\n",
        "    print('|%4i|%9.4f|%9.4f|--%8.4f-->|%4i|%9.4f|%9.4f|' % \n",
        "          (edge.start[0], edge.start[1], edge.start[2], edge.info, edge.end[0], \n",
        "           edge.end[1], edge.end[2]))"
      ],
      "execution_count": 7,
      "outputs": []
    },
    {
      "cell_type": "markdown",
      "metadata": {
        "id": "X2H-Mde42y-b"
      },
      "source": [
        "7 - The world (```new_world```) is created from the nodes (```cities```) as a complete graph. In this point, ```salesman_rules```, ```salesman_cost``` and ```salesman_heuristic``` are defined as respectively ```r_func```, ```c_func``` and ```h_func```. These functions are bound to the world and the first one has an important role in its structure."
      ]
    },
    {
      "cell_type": "code",
      "metadata": {
        "id": "9O6CDadU20dY"
      },
      "source": [
        "new_world = AntWorld(cities, salesman_rules, salesman_cost, salesman_heuristic, True)"
      ],
      "execution_count": 8,
      "outputs": []
    },
    {
      "cell_type": "markdown",
      "metadata": {
        "id": "ZCTNk-11248r"
      },
      "source": [
        "8 - Configure ```ant_opt``` as an ```AntSystem```."
      ]
    },
    {
      "cell_type": "code",
      "metadata": {
        "id": "2wQdu4tr28XV"
      },
      "source": [
        "ant_opt = AntSystem(world=new_world, n_ants=50)"
      ],
      "execution_count": 9,
      "outputs": []
    },
    {
      "cell_type": "markdown",
      "metadata": {
        "id": "VbaA8gW03EIn"
      },
      "source": [
        "9 - Execute the optimization loop."
      ]
    },
    {
      "cell_type": "code",
      "metadata": {
        "colab": {
          "base_uri": "https://localhost:8080/"
        },
        "id": "ICwukjuy3Hqz",
        "outputId": "c2d16d0e-1a51-4e6f-f264-7e8d0ccc20cc"
      },
      "source": [
        "ant_opt.optimize(50,30)"
      ],
      "execution_count": 10,
      "outputs": [
        {
          "output_type": "stream",
          "name": "stdout",
          "text": [
            "| iter |         min        |         max        |        best        |\n",
            "|     1|             637.018|             1164.19|             637.018|\n",
            "|     2|             602.593|             1232.12|             602.593|\n",
            "|     3|             656.954|             1282.76|             602.593|\n",
            "|     4|             563.216|             1146.41|             563.216|\n",
            "|     5|             689.581|             1130.08|             563.216|\n",
            "|     6|             660.239|             1208.84|             563.216|\n",
            "|     7|             563.216|             1128.86|             563.216|\n",
            "|     8|             575.857|             1228.86|             563.216|\n",
            "|     9|             637.876|              1250.7|             563.216|\n",
            "|    10|             571.761|             1167.68|             563.216|\n",
            "|    11|             537.621|             1129.53|             537.621|\n",
            "|    12|             546.166|             1251.01|             537.621|\n",
            "|    13|             596.566|              1124.1|             537.621|\n",
            "|    14|             674.805|             1053.53|             537.621|\n",
            "|    15|             537.621|             1259.94|             537.621|\n",
            "|    16|             606.906|             1174.14|             537.621|\n",
            "|    17|             575.857|             1161.22|             537.621|\n",
            "|    18|             659.423|             1179.32|             537.621|\n",
            "|    19|             537.621|             1113.08|             537.621|\n",
            "|    20|             571.761|             1152.92|             537.621|\n",
            "|    21|             663.471|             1112.32|             537.621|\n",
            "|    22|               667.3|             1086.04|             537.621|\n",
            "|    23|              659.19|             1184.37|             537.621|\n",
            "|    24|             575.857|             1081.84|             537.621|\n",
            "|    25|             546.166|             1109.92|             537.621|\n",
            "|    26|             571.651|              1133.8|             537.621|\n",
            "|    27|             537.621|             1124.37|             537.621|\n",
            "|    28|             546.166|             1172.44|             537.621|\n",
            "|    29|             546.166|             1198.71|             537.621|\n",
            "|    30|             546.166|             1191.12|             537.621|\n",
            "|    31|             662.849|              1140.5|             537.621|\n",
            "|    32|             537.621|             1203.54|             537.621|\n",
            "|    33|             609.887|             1154.34|             537.621|\n",
            "|    34|             648.472|             1176.03|             537.621|\n",
            "|    35|             602.593|              1150.9|             537.621|\n",
            "|    36|             637.259|             1151.85|             537.621|\n",
            "|    37|             563.216|             1113.61|             537.621|\n",
            "|    38|             596.566|             1123.77|             537.621|\n",
            "|    39|             580.196|             1140.77|             537.621|\n",
            "|    40|             632.963|             1143.02|             537.621|\n",
            "|    41|             635.943|              1205.7|             537.621|\n",
            "|    42|             619.622|             1113.61|             537.621|\n",
            "|    43|             575.857|             1115.39|             537.621|\n",
            "|    44|             580.196|             1048.15|             537.621|\n",
            "|    45|             650.645|             1107.27|             537.621|\n"
          ]
        }
      ]
    },
    {
      "cell_type": "markdown",
      "metadata": {
        "id": "H5tpCBSa3OWd"
      },
      "source": [
        "10 - Show details about the best solution found."
      ]
    },
    {
      "cell_type": "code",
      "metadata": {
        "colab": {
          "base_uri": "https://localhost:8080/"
        },
        "id": "H5ywlSjz3RzP",
        "outputId": "53a33b31-a228-4bdc-cffc-5f97224576db"
      },
      "source": [
        "print_solution(ant_opt.g_best)"
      ],
      "execution_count": 11,
      "outputs": [
        {
          "output_type": "stream",
          "name": "stdout",
          "text": [
            "total cost = 537.621\n",
            "path:\n",
            "| id |    x    |    y    |--distance-->| id |    x    |    y    |\n",
            "|   0|  60.2036|  28.0593|-- 30.7501-->|   6|  90.8522|  25.5618|\n",
            "|   6|  90.8522|  25.5618|--150.3291-->|   2| -10.8638| -85.1301|\n",
            "|   2| -10.8638| -85.1301|-- 33.3385-->|   9| -35.2361| -62.3827|\n",
            "|   9| -35.2361| -62.3827|-- 61.0267-->|   4| -91.9237| -39.7826|\n",
            "|   4| -91.9237| -39.7826|-- 16.2071-->|   7| -94.5122| -23.7835|\n",
            "|   7| -94.5122| -23.7835|-- 67.9902-->|   3| -90.3284|  44.0778|\n",
            "|   3| -90.3284|  44.0778|-- 19.6245-->|   1| -75.9142|  57.3950|\n",
            "|   1| -75.9142|  57.3950|-- 47.8740-->|   8| -31.6039|  75.5202|\n",
            "|   8| -31.6039|  75.5202|-- 54.4540-->|   5|  22.5184|  69.5187|\n",
            "|   5|  22.5184|  69.5187|-- 56.0273-->|   0|  60.2036|  28.0593|\n"
          ]
        }
      ]
    }
  ]
}
