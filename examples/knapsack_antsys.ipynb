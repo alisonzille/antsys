{
  "nbformat": 4,
  "nbformat_minor": 0,
  "metadata": {
    "colab": {
      "provenance": []
    },
    "kernelspec": {
      "name": "python3",
      "display_name": "Python 3"
    },
    "language_info": {
      "name": "python"
    }
  },
  "cells": [
    {
      "cell_type": "markdown",
      "metadata": {
        "id": "3Ud7Dmb21Joz"
      },
      "source": [
        "#**antsys**\n",
        "A general purpose ant colony optimization system.\n",
        "<br/><br/>**Overview**\n",
        "<br/>The Ant Colony Optimization (ACO) is a technique, inspired by the foraging behavior of ants, to find good solutions for discrete optimization problems. Its central metaphor resides in the indirect communication mechanism through chemical signals (pheromones) used by many species of social ants in their search for food sources.\n",
        "<br/>The same inspiration was build in the **antsys** package, wich takes advantage of *python* flexibility to be easily applied to different optimization problems.\n",
        "<br/><br/>**Installation**\n",
        "<br/>Installation via ```pip```"
      ]
    },
    {
      "cell_type": "code",
      "metadata": {
        "colab": {
          "base_uri": "https://localhost:8080/"
        },
        "id": "mPPn0IsrtsyQ",
        "outputId": "bccf6b2f-9ba9-4fbb-b7bd-6cc6910c534c"
      },
      "source": [
        "!pip3 install antsys"
      ],
      "execution_count": 1,
      "outputs": [
        {
          "output_type": "stream",
          "name": "stdout",
          "text": [
            "Looking in indexes: https://pypi.org/simple, https://us-python.pkg.dev/colab-wheels/public/simple/\n",
            "Collecting antsys\n",
            "  Downloading antsys-0.1.42-py3-none-any.whl (20 kB)\n",
            "Requirement already satisfied: numpy in /usr/local/lib/python3.8/dist-packages (from antsys) (1.21.6)\n",
            "Installing collected packages: antsys\n",
            "Successfully installed antsys-0.1.42\n"
          ]
        }
      ]
    },
    {
      "cell_type": "markdown",
      "metadata": {
        "id": "-yA_MBRl1jb5"
      },
      "source": [
        "**Usage Example:** *Knapsack Problem*\n",
        "<br/>The **antsys** package was designed to be easy to apply to different optimization problems. So, the *knapsack problem* was selected as example, since the ACO's application is not straightforward. This problem is based on a situation in which, from a set of objects of different weights and values, you want to fill a *knapsack* obtaining the highest possible value without exceeding its capacity.\n",
        "<br/>1 - Import necessary packages and modules"
      ]
    },
    {
      "cell_type": "code",
      "metadata": {
        "id": "-gv_7lWafdXb"
      },
      "source": [
        "from antsys import AntWorld\n",
        "from antsys import AntSystem\n",
        "import numpy as np\n",
        "import random"
      ],
      "execution_count": 2,
      "outputs": []
    },
    {
      "cell_type": "markdown",
      "metadata": {
        "id": "-LWdnkEI11-A"
      },
      "source": [
        "2 - Generate a knapsack problem instance"
      ]
    },
    {
      "cell_type": "code",
      "metadata": {
        "colab": {
          "base_uri": "https://localhost:8080/"
        },
        "id": "cUBSBkzE15nD",
        "outputId": "76eac82c-784b-4b93-9a0a-6efc8445aedc"
      },
      "source": [
        "# generate and show knapsack capacity\n",
        "max_weight = random.randint(200,500)\n",
        "print('knapsack max weight =', max_weight)\n",
        "\n",
        "# generate and show available items\n",
        "print('\\navailable items:')\n",
        "print('|item|weight| value|')\n",
        "items = []\n",
        "for i in range(20):\n",
        "  items.append((i, random.randint(50,200), random.randint(100,500)))\n",
        "  print('|%4i|%6i|%6i|' % items[i])"
      ],
      "execution_count": 9,
      "outputs": [
        {
          "output_type": "stream",
          "name": "stdout",
          "text": [
            "knapsack max weight = 376\n",
            "\n",
            "available items:\n",
            "|item|weight| value|\n",
            "|   0|   169|   375|\n",
            "|   1|   143|   158|\n",
            "|   2|   118|   306|\n",
            "|   3|   174|   383|\n",
            "|   4|   143|   223|\n",
            "|   5|   124|   267|\n",
            "|   6|   190|   110|\n",
            "|   7|   199|   360|\n",
            "|   8|   157|   200|\n",
            "|   9|   131|   311|\n",
            "|  10|   109|   448|\n",
            "|  11|   150|   438|\n",
            "|  12|   158|   141|\n",
            "|  13|    56|   130|\n",
            "|  14|   156|   427|\n",
            "|  15|    68|   393|\n",
            "|  16|   174|   271|\n",
            "|  17|    65|   498|\n",
            "|  18|    79|   299|\n",
            "|  19|   184|   417|\n"
          ]
        }
      ]
    },
    {
      "cell_type": "markdown",
      "metadata": {
        "id": "Gklp-ZTM2Dju"
      },
      "source": [
        "3 - The function ```knapsack_rules``` will append information to the edges during the world creation. In this case there will be two edges between pairs of nodes, one assigning (```1```) and the other discharging (```0```) the item (```end```) of being included in the knapsack."
      ]
    },
    {
      "cell_type": "code",
      "metadata": {
        "id": "O6e2tPY32IUg"
      },
      "source": [
        "def knapsack_rules(start, end):\n",
        "  return [0, 1]"
      ],
      "execution_count": 32,
      "outputs": []
    },
    {
      "cell_type": "markdown",
      "metadata": {
        "id": "OnYLNreD2MKU"
      },
      "source": [
        "4 - The function ```knapsack_cost``` will be used to calculate the cost of any possible solution (```path```)."
      ]
    },
    {
      "cell_type": "code",
      "metadata": {
        "id": "vuSsFFUC2PH3"
      },
      "source": [
        "def knapsack_cost(path):\n",
        "  k_value = 0\n",
        "  k_weight = 0\n",
        "  for edge in path:\n",
        "    if edge.info == 1:\n",
        "      k_value += edge.end[2]\n",
        "      k_weight += edge.end[1]\n",
        "  cost = 1/k_value\n",
        "  if k_weight > max_weight:\n",
        "    cost += 1\n",
        "  else:\n",
        "    for edge in path:\n",
        "      if edge.info == 0 and edge.end[1] <= (max_weight-k_weight):\n",
        "        cost += 1\n",
        "  return cost"
      ],
      "execution_count": 33,
      "outputs": []
    },
    {
      "cell_type": "markdown",
      "metadata": {
        "id": "2olVfgbF2YJX"
      },
      "source": [
        "5 - The ```knapsack_heuristic``` is a simple heuristic that will help the ants to make better choices. The probability to choose an item that fits in the remaining capacity of the knapsack will be slightly higher.\n"
      ]
    },
    {
      "cell_type": "code",
      "metadata": {
        "id": "KZVzO1ZO2cVl"
      },
      "source": [
        "def knapsack_heuristic(path, candidate):\n",
        "  k_weight = 0\n",
        "  for edge in path:\n",
        "    if edge.info == 1:\n",
        "      k_weight += edge.end[1]\n",
        "  if candidate.info == 1 and candidate.end[1] < (max_weight-k_weight):\n",
        "    return 0\n",
        "  elif candidate.info == 0:\n",
        "    return 1\n",
        "  else:\n",
        "    return 2"
      ],
      "execution_count": 20,
      "outputs": []
    },
    {
      "cell_type": "markdown",
      "metadata": {
        "id": "zjDbSD3G2iUV"
      },
      "source": [
        "6 - This function shows the details of a possible solution (```path```)."
      ]
    },
    {
      "cell_type": "code",
      "metadata": {
        "id": "mPoeQ0vz2lnl"
      },
      "source": [
        "def print_solution(path):\n",
        "  print('knapsack items:')\n",
        "  print('|item|weight| value|')\n",
        "  value = 0\n",
        "  weight = 0\n",
        "  for edge in path:\n",
        "    if(edge.info == 1):\n",
        "      print('|%4i|%6i|%6i|' % edge.end)\n",
        "      value+=edge.end[2]\n",
        "      weight+=edge.end[1]\n",
        "  print('total weight = %g\\ntotal value = %g' % (weight, value))"
      ],
      "execution_count": 21,
      "outputs": []
    },
    {
      "cell_type": "markdown",
      "metadata": {
        "id": "X2H-Mde42y-b"
      },
      "source": [
        "7 - The world (```new_world```) is created from the nodes (```items```) as a non-complete graph. In this point, ```knapsack_rules```, ```knapsack_cost``` and ```knapscack_heuristic``` are defined as respectively ```r_func```, ```c_func``` and ```h_func```. These functions are bound to the world and the first one has an important role in its structure."
      ]
    },
    {
      "cell_type": "code",
      "metadata": {
        "id": "9O6CDadU20dY"
      },
      "source": [
        "new_world = AntWorld(items, knapsack_rules, knapsack_cost, knapsack_heuristic, False, 100)"
      ],
      "execution_count": 29,
      "outputs": []
    },
    {
      "cell_type": "markdown",
      "metadata": {
        "id": "ZCTNk-11248r"
      },
      "source": [
        "8 - Configure ```ant_opt``` as an ```AntSystem```."
      ]
    },
    {
      "cell_type": "code",
      "metadata": {
        "id": "2wQdu4tr28XV"
      },
      "source": [
        "ant_opt = AntSystem(world=new_world, n_ants=100)"
      ],
      "execution_count": 34,
      "outputs": []
    },
    {
      "cell_type": "markdown",
      "metadata": {
        "id": "VbaA8gW03EIn"
      },
      "source": [
        "9 - Execute the optimization loop."
      ]
    },
    {
      "cell_type": "code",
      "metadata": {
        "colab": {
          "base_uri": "https://localhost:8080/"
        },
        "id": "ICwukjuy3Hqz",
        "outputId": "ae3d896f-ea52-4d1d-c18c-aa6957a99cab"
      },
      "source": [
        "ant_opt.optimize(100,50)"
      ],
      "execution_count": 35,
      "outputs": [
        {
          "output_type": "stream",
          "name": "stdout",
          "text": [
            "| iter |         min        |         max        |        best        |\n",
            "|     1|         0.000690608|             1.00164|         0.000690608|\n",
            "|     2|         0.000618429|             1.00265|         0.000618429|\n",
            "|     3|         0.000690608|             2.00117|         0.000618429|\n",
            "|     4|         0.000606061|             4.00122|         0.000606061|\n",
            "|     5|         0.000618429|             1.00265|         0.000606061|\n",
            "|     6|         0.000618429|             1.00138|         0.000606061|\n",
            "|     7|         0.000618429|             2.00151|         0.000606061|\n",
            "|     8|         0.000618429|             1.00265|         0.000606061|\n",
            "|     9|         0.000618429|             2.00117|         0.000606061|\n",
            "|    10|         0.000606061|             2.00082|         0.000606061|\n",
            "|    11|         0.000618429|             1.00227|         0.000606061|\n",
            "|    12|         0.000618429|             1.00213|         0.000606061|\n",
            "|    13|         0.000618429|             3.00116|         0.000606061|\n",
            "|    14|         0.000690608|             1.00265|         0.000606061|\n",
            "|    15|         0.000690608|             2.00095|         0.000606061|\n",
            "|    16|         0.000618429|             2.00095|         0.000606061|\n",
            "|    17|         0.000690608|             2.00095|         0.000606061|\n",
            "|    18|         0.000618429|             2.00089|         0.000606061|\n",
            "|    19|         0.000690608|             1.00265|         0.000606061|\n",
            "|    20|         0.000618429|             2.00082|         0.000606061|\n",
            "|    21|         0.000738552|             2.00105|         0.000606061|\n",
            "|    22|         0.000668449|             1.00265|         0.000606061|\n",
            "|    23|         0.000618429|             1.00265|         0.000606061|\n",
            "|    24|         0.000685401|             1.00162|         0.000606061|\n",
            "|    25|         0.000618429|             2.00105|         0.000606061|\n",
            "|    26|         0.000618429|             1.00176|         0.000606061|\n",
            "|    27|         0.000618429|             3.00173|         0.000606061|\n",
            "|    28|         0.000690608|             2.00117|         0.000606061|\n",
            "|    29|         0.000618429|             2.00095|         0.000606061|\n",
            "|    30|         0.000618429|             2.00105|         0.000606061|\n",
            "|    31|         0.000618429|             1.00216|         0.000606061|\n",
            "|    32|         0.000685401|             1.00176|         0.000606061|\n",
            "|    33|         0.000618429|             1.00188|         0.000606061|\n",
            "|    34|         0.000618429|             2.00117|         0.000606061|\n",
            "|    35|         0.000618429|             2.00089|         0.000606061|\n",
            "|    36|         0.000690608|             3.00173|         0.000606061|\n",
            "|    37|         0.000690608|             2.00105|         0.000606061|\n",
            "|    38|         0.000668449|             2.00095|         0.000606061|\n",
            "|    39|         0.000618429|             2.00095|         0.000606061|\n",
            "|    40|         0.000618429|             1.00181|         0.000606061|\n",
            "|    41|         0.000690608|             1.00227|         0.000606061|\n",
            "|    42|         0.000618429|             1.00213|         0.000606061|\n",
            "|    43|         0.000618429|             1.00222|         0.000606061|\n",
            "|    44|         0.000618429|             1.00213|         0.000606061|\n",
            "|    45|         0.000668449|             2.00076|         0.000606061|\n",
            "|    46|         0.000618429|             2.00105|         0.000606061|\n",
            "|    47|         0.000618429|             2.00105|         0.000606061|\n",
            "|    48|         0.000606061|             1.00222|         0.000606061|\n",
            "|    49|         0.000618429|             1.00227|         0.000606061|\n",
            "|    50|         0.000690608|             1.00145|         0.000606061|\n",
            "|    51|         0.000618429|             2.00095|         0.000606061|\n",
            "|    52|         0.000668449|             2.00117|         0.000606061|\n",
            "|    53|         0.000606061|             1.00227|         0.000606061|\n",
            "|    54|         0.000690608|             1.00227|         0.000606061|\n"
          ]
        }
      ]
    },
    {
      "cell_type": "markdown",
      "metadata": {
        "id": "H5tpCBSa3OWd"
      },
      "source": [
        "10 - Show details about the best solution found."
      ]
    },
    {
      "cell_type": "code",
      "metadata": {
        "colab": {
          "base_uri": "https://localhost:8080/"
        },
        "id": "H5ywlSjz3RzP",
        "outputId": "30a2d893-7dd2-4906-d98c-9a6ae8b97cce"
      },
      "source": [
        "print('\\nknapsack max weight =', max_weight)\n",
        "print_solution(ant_opt.g_best[2])"
      ],
      "execution_count": 36,
      "outputs": [
        {
          "output_type": "stream",
          "name": "stdout",
          "text": [
            "\n",
            "knapsack max weight = 376\n",
            "knapsack items:\n",
            "|item|weight| value|\n",
            "|   9|   131|   311|\n",
            "|  10|   109|   448|\n",
            "|  15|    68|   393|\n",
            "|  17|    65|   498|\n",
            "total weight = 373\n",
            "total value = 1650\n"
          ]
        }
      ]
    }
  ]
}
