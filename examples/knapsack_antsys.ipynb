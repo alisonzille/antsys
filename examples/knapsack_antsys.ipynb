{
  "nbformat": 4,
  "nbformat_minor": 0,
  "metadata": {
    "colab": {
      "provenance": []
    },
    "kernelspec": {
      "name": "python3",
      "display_name": "Python 3"
    },
    "language_info": {
      "name": "python"
    }
  },
  "cells": [
    {
      "cell_type": "markdown",
      "metadata": {
        "id": "3Ud7Dmb21Joz"
      },
      "source": [
        "#**antsys**\n",
        "A general purpose ant colony optimization system.\n",
        "<br/><br/>**Overview**\n",
        "<br/>The Ant Colony Optimization (ACO) is a technique, inspired by the foraging behavior of ants, to find good solutions for discrete optimization problems. Its central metaphor resides in the indirect communication mechanism through chemical signals (pheromones) used by many species of social ants in their search for food sources.\n",
        "<br/>The same inspiration was build in the **antsys** package, wich takes advantage of *python* flexibility to be easily applied to different optimization problems.\n",
        "<br/><br/>**Installation**\n",
        "<br/>Installation via ```pip```"
      ]
    },
    {
      "cell_type": "code",
      "metadata": {
        "colab": {
          "base_uri": "https://localhost:8080/"
        },
        "id": "mPPn0IsrtsyQ",
        "outputId": "9f34535f-e26b-44fb-f128-f0bede3560f3"
      },
      "source": [
        "!pip3 install antsys"
      ],
      "execution_count": 1,
      "outputs": [
        {
          "output_type": "stream",
          "name": "stdout",
          "text": [
            "Looking in indexes: https://pypi.org/simple, https://us-python.pkg.dev/colab-wheels/public/simple/\n",
            "Collecting antsys\n",
            "  Downloading antsys-0.1.44-py3-none-any.whl (20 kB)\n",
            "Requirement already satisfied: numpy in /usr/local/lib/python3.8/dist-packages (from antsys) (1.21.6)\n",
            "Installing collected packages: antsys\n",
            "Successfully installed antsys-0.1.44\n"
          ]
        }
      ]
    },
    {
      "cell_type": "markdown",
      "metadata": {
        "id": "-yA_MBRl1jb5"
      },
      "source": [
        "**Usage Example:** *Knapsack Problem*\n",
        "<br/>The **antsys** package was designed to be easy to apply to different optimization problems. So, the *knapsack problem* was selected as example, since the ACO's application is not straightforward. This problem is based on a situation in which, from a set of objects of different weights and values, you want to fill a *knapsack* obtaining the highest possible value without exceeding its capacity.\n",
        "<br/>1 - Import necessary packages and modules"
      ]
    },
    {
      "cell_type": "code",
      "metadata": {
        "id": "-gv_7lWafdXb"
      },
      "source": [
        "from antsys import AntWorld\n",
        "from antsys import AntSystem\n",
        "import numpy as np\n",
        "import random"
      ],
      "execution_count": 4,
      "outputs": []
    },
    {
      "cell_type": "markdown",
      "metadata": {
        "id": "-LWdnkEI11-A"
      },
      "source": [
        "2 - Generate a knapsack problem instance"
      ]
    },
    {
      "cell_type": "code",
      "metadata": {
        "colab": {
          "base_uri": "https://localhost:8080/"
        },
        "id": "cUBSBkzE15nD",
        "outputId": "171ffece-9130-4a4c-f70e-628b7226bcbe"
      },
      "source": [
        "# generate and show knapsack capacity\n",
        "max_weight = random.randint(200,500)\n",
        "print('knapsack max weight =', max_weight)\n",
        "\n",
        "# generate and show available items\n",
        "print('\\navailable items:')\n",
        "print('|item|weight| value|')\n",
        "items = []\n",
        "for i in range(20):\n",
        "  items.append((i, random.randint(50,200), random.randint(100,500)))\n",
        "  print('|%4i|%6i|%6i|' % items[i])"
      ],
      "execution_count": 5,
      "outputs": [
        {
          "output_type": "stream",
          "name": "stdout",
          "text": [
            "knapsack max weight = 425\n",
            "\n",
            "available items:\n",
            "|item|weight| value|\n",
            "|   0|    91|   497|\n",
            "|   1|    68|   391|\n",
            "|   2|    50|   261|\n",
            "|   3|    84|   331|\n",
            "|   4|   127|   125|\n",
            "|   5|   151|   295|\n",
            "|   6|    75|   316|\n",
            "|   7|   184|   338|\n",
            "|   8|    56|   292|\n",
            "|   9|    98|   111|\n",
            "|  10|   169|   160|\n",
            "|  11|    86|   355|\n",
            "|  12|   148|   292|\n",
            "|  13|    99|   452|\n",
            "|  14|   130|   495|\n",
            "|  15|   170|   245|\n",
            "|  16|   124|   419|\n",
            "|  17|   181|   446|\n",
            "|  18|    93|   481|\n",
            "|  19|   109|   301|\n"
          ]
        }
      ]
    },
    {
      "cell_type": "markdown",
      "metadata": {
        "id": "Gklp-ZTM2Dju"
      },
      "source": [
        "3 - The function ```knapsack_rules``` will append information to the edges during the world creation. In this case there will be two edges between pairs of nodes, one assigning (```1```) and the other discharging (```0```) the item (```end```) of being included in the knapsack."
      ]
    },
    {
      "cell_type": "code",
      "metadata": {
        "id": "O6e2tPY32IUg"
      },
      "source": [
        "def knapsack_rules(start, end):\n",
        "  return [0, 1]"
      ],
      "execution_count": 6,
      "outputs": []
    },
    {
      "cell_type": "markdown",
      "metadata": {
        "id": "OnYLNreD2MKU"
      },
      "source": [
        "4 - The function ```knapsack_cost``` will be used to calculate the cost of any possible solution (```path```)."
      ]
    },
    {
      "cell_type": "code",
      "metadata": {
        "id": "vuSsFFUC2PH3"
      },
      "source": [
        "def knapsack_cost(path):\n",
        "  k_value = 0\n",
        "  k_weight = 0\n",
        "  for edge in path:\n",
        "    if edge.info == 1:\n",
        "      k_value += edge.end[2]\n",
        "      k_weight += edge.end[1]\n",
        "  cost = 1/k_value\n",
        "  if k_weight > max_weight:\n",
        "    cost += 1\n",
        "  else:\n",
        "    for edge in path:\n",
        "      if edge.info == 0 and edge.end[1] <= (max_weight-k_weight):\n",
        "        cost += 1\n",
        "  return cost"
      ],
      "execution_count": 7,
      "outputs": []
    },
    {
      "cell_type": "markdown",
      "metadata": {
        "id": "2olVfgbF2YJX"
      },
      "source": [
        "5 - The ```knapsack_heuristic``` is a simple heuristic that will help the ants to make better choices. The probability to choose an item that fits in the remaining capacity of the knapsack will be slightly higher.\n"
      ]
    },
    {
      "cell_type": "code",
      "metadata": {
        "id": "KZVzO1ZO2cVl"
      },
      "source": [
        "def knapsack_heuristic(path, candidate):\n",
        "  k_weight = 0\n",
        "  for edge in path:\n",
        "    if edge.info == 1:\n",
        "      k_weight += edge.end[1]\n",
        "  if candidate.info == 1 and candidate.end[1] < (max_weight-k_weight):\n",
        "    return 0\n",
        "  elif candidate.info == 0:\n",
        "    return 1\n",
        "  else:\n",
        "    return 2"
      ],
      "execution_count": 8,
      "outputs": []
    },
    {
      "cell_type": "markdown",
      "metadata": {
        "id": "zjDbSD3G2iUV"
      },
      "source": [
        "6 - This function shows the details of a possible solution (```path```)."
      ]
    },
    {
      "cell_type": "code",
      "metadata": {
        "id": "mPoeQ0vz2lnl"
      },
      "source": [
        "def print_solution(path):\n",
        "  print('knapsack items:')\n",
        "  print('|item|weight| value|')\n",
        "  value = 0\n",
        "  weight = 0\n",
        "  for edge in path:\n",
        "    if(edge.info == 1):\n",
        "      print('|%4i|%6i|%6i|' % edge.end)\n",
        "      value+=edge.end[2]\n",
        "      weight+=edge.end[1]\n",
        "  print('total weight = %g\\ntotal value = %g' % (weight, value))"
      ],
      "execution_count": 9,
      "outputs": []
    },
    {
      "cell_type": "markdown",
      "metadata": {
        "id": "X2H-Mde42y-b"
      },
      "source": [
        "7 - The world (```new_world```) is created from the nodes (```items```) as a directed complete graph. In this point, ```knapsack_rules```, ```knapsack_cost``` and ```knapscack_heuristic``` are defined as respectively ```r_func```, ```c_func``` and ```h_func```. These functions are bound to the world and the first one has an important role in its structure.\n",
        "* Assigning ```False``` to ```complete```, the world would be as a set of choices to travel across the nodes in sequence. This would work for the present problem, leading to a shorter convergence time and, in most cases, a worse solution. The best choice of world representation depends on the problem."
      ]
    },
    {
      "cell_type": "code",
      "metadata": {
        "id": "9O6CDadU20dY"
      },
      "source": [
        "new_world = AntWorld(items, knapsack_rules, knapsack_cost, knapsack_heuristic, True, 10)"
      ],
      "execution_count": 10,
      "outputs": []
    },
    {
      "cell_type": "markdown",
      "metadata": {
        "id": "ZCTNk-11248r"
      },
      "source": [
        "8 - Configure ```ant_opt``` as an ```AntSystem```."
      ]
    },
    {
      "cell_type": "code",
      "metadata": {
        "id": "2wQdu4tr28XV"
      },
      "source": [
        "ant_opt = AntSystem(world=new_world, n_ants=100)"
      ],
      "execution_count": 11,
      "outputs": []
    },
    {
      "cell_type": "markdown",
      "metadata": {
        "id": "VbaA8gW03EIn"
      },
      "source": [
        "9 - Execute the optimization loop."
      ]
    },
    {
      "cell_type": "code",
      "metadata": {
        "colab": {
          "base_uri": "https://localhost:8080/"
        },
        "id": "ICwukjuy3Hqz",
        "outputId": "ec33bb2d-6e84-459f-c0aa-04a82028d810"
      },
      "source": [
        "ant_opt.optimize(100,50)"
      ],
      "execution_count": 12,
      "outputs": [
        {
          "output_type": "stream",
          "name": "stdout",
          "text": [
            "| iter |         min        |         max        |        best        |\n",
            "|     1|         0.000509424|             3.00116|         0.000509424|\n",
            "|     2|         0.000537634|             2.00117|         0.000509424|\n",
            "|     3|         0.000538503|             2.00079|         0.000509424|\n",
            "|     4|         0.000515198|             1.00128|         0.000509424|\n",
            "|     5|         0.000558347|             1.00194|         0.000509424|\n",
            "|     6|         0.000588582|             1.00108|         0.000509424|\n",
            "|     7|         0.000513875|             3.00183|         0.000509424|\n",
            "|     8|         0.000517331|             2.00084|         0.000509424|\n",
            "|     9|         0.000514403|             2.00124|         0.000509424|\n",
            "|    10|         0.000510204|             2.00086|         0.000509424|\n",
            "|    11|         0.000526593|             2.00102|         0.000509424|\n",
            "|    12|         0.000478927|             2.00102|         0.000478927|\n",
            "|    13|         0.000511247|             2.00091|         0.000478927|\n",
            "|    14|         0.000528821|             1.00111|         0.000478927|\n",
            "|    15|         0.000548246|             2.00102|         0.000478927|\n",
            "|    16|         0.000526593|              2.0007|         0.000478927|\n",
            "|    17|         0.000549753|             2.00064|         0.000478927|\n",
            "|    18|         0.000520021|             3.00063|         0.000478927|\n",
            "|    19|         0.000473261|             3.00118|         0.000473261|\n",
            "|    20|         0.000480307|             3.00131|         0.000473261|\n",
            "|    21|         0.000507357|             4.00117|         0.000473261|\n",
            "|    22|         0.000565931|             2.00083|         0.000473261|\n",
            "|    23|         0.000530223|             9.00069|         0.000473261|\n",
            "|    24|         0.000517866|              2.0013|         0.000473261|\n",
            "|    25|         0.000542005|             1.00125|         0.000473261|\n",
            "|    26|         0.000513875|             5.00092|         0.000473261|\n",
            "|    27|         0.000538503|             3.00201|         0.000473261|\n",
            "|    28|         0.000517598|             1.00094|         0.000473261|\n",
            "|    29|         0.000536481|             1.00142|         0.000473261|\n",
            "|    30|         0.000501253|             2.00074|         0.000473261|\n",
            "|    31|         0.000542005|             2.00074|         0.000473261|\n",
            "|    32|         0.000571755|             2.00083|         0.000473261|\n",
            "|    33|         0.000506329|             1.00132|         0.000473261|\n",
            "|    34|         0.000512821|             2.00089|         0.000473261|\n",
            "|    35|         0.000539084|             1.00118|         0.000473261|\n",
            "|    36|         0.000544662|             1.00134|         0.000473261|\n",
            "|    37|         0.000521648|             3.00116|         0.000473261|\n",
            "|    38|         0.000539084|              5.0008|         0.000473261|\n",
            "|    39|         0.000523013|             2.00141|         0.000473261|\n",
            "|    40|         0.000520021|             2.00088|         0.000473261|\n",
            "|    41|         0.000486618|             2.00096|         0.000473261|\n",
            "|    42|         0.000517598|             1.00173|         0.000473261|\n",
            "|    43|         0.000486618|             3.00102|         0.000473261|\n",
            "|    44|         0.000543183|             2.00131|         0.000473261|\n",
            "|    45|         0.000507357|              1.0012|         0.000473261|\n",
            "|    46|         0.000513611|             1.00125|         0.000473261|\n",
            "|    47|         0.000503271|             2.00124|         0.000473261|\n",
            "|    48|         0.000544959|             2.00087|         0.000473261|\n",
            "|    49|         0.000530786|               4.001|         0.000473261|\n",
            "|    50|         0.000498256|             2.00119|         0.000473261|\n",
            "|    51|         0.000501253|             1.00097|         0.000473261|\n",
            "|    52|         0.000607533|             2.00134|         0.000473261|\n",
            "|    53|         0.000487092|             1.00189|         0.000473261|\n",
            "|    54|         0.000569801|             3.00095|         0.000473261|\n",
            "|    55|         0.000578704|             2.00087|         0.000473261|\n",
            "|    56|         0.000628536|             3.00072|         0.000473261|\n",
            "|    57|         0.000506329|             2.00095|         0.000473261|\n",
            "|    58|         0.000493583|             2.00079|         0.000473261|\n",
            "|    59|         0.000512821|             2.00096|         0.000473261|\n",
            "|    60|         0.000510204|             2.00077|         0.000473261|\n",
            "|    61|         0.000530786|             2.00087|         0.000473261|\n",
            "|    62|         0.000536481|             2.00078|         0.000473261|\n",
            "|    63|         0.000493583|             4.00071|         0.000473261|\n",
            "|    64|         0.000521648|             2.00131|         0.000473261|\n",
            "|    65|         0.000529101|             3.00115|         0.000473261|\n",
            "|    66|         0.000544959|             3.00201|         0.000473261|\n",
            "|    67|         0.000511247|             2.00128|         0.000473261|\n",
            "|    68|         0.000520021|              3.0008|         0.000473261|\n",
            "|    69|         0.000523286|             3.00076|         0.000473261|\n"
          ]
        }
      ]
    },
    {
      "cell_type": "markdown",
      "metadata": {
        "id": "H5tpCBSa3OWd"
      },
      "source": [
        "10 - Show details about the best solution found."
      ]
    },
    {
      "cell_type": "code",
      "metadata": {
        "colab": {
          "base_uri": "https://localhost:8080/"
        },
        "id": "H5ywlSjz3RzP",
        "outputId": "1fcefefb-a77d-426f-8a98-91e736000b17"
      },
      "source": [
        "print('\\nknapsack max weight =', max_weight)\n",
        "print_solution(ant_opt.g_best[2])"
      ],
      "execution_count": 13,
      "outputs": [
        {
          "output_type": "stream",
          "name": "stdout",
          "text": [
            "\n",
            "knapsack max weight = 425\n",
            "knapsack items:\n",
            "|item|weight| value|\n",
            "|  18|    93|   481|\n",
            "|   0|    91|   497|\n",
            "|   1|    68|   391|\n",
            "|  13|    99|   452|\n",
            "|   8|    56|   292|\n",
            "total weight = 407\n",
            "total value = 2113\n"
          ]
        }
      ]
    }
  ]
}
