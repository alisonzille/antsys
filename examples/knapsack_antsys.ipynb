{
  "nbformat": 4,
  "nbformat_minor": 0,
  "metadata": {
    "colab": {
      "name": "knapsack-antsys.ipynb",
      "provenance": [],
      "collapsed_sections": []
    },
    "kernelspec": {
      "name": "python3",
      "display_name": "Python 3"
    },
    "language_info": {
      "name": "python"
    }
  },
  "cells": [
    {
      "cell_type": "markdown",
      "metadata": {
        "id": "3Ud7Dmb21Joz"
      },
      "source": [
        "#**antsys**\n",
        "A general purpose ant colony optimization system.\n",
        "<br/><br/>**Overview**\n",
        "<br/>The Ant Colony Optimization (ACO) is a technique, inspired by the foraging behavior of ants, to find good solutions for discrete optimization problems. Its central metaphor resides in the indirect communication mechanism through chemical signals (pheromones) used by many species of social ants in their search for food sources.\n",
        "<br/>The same inspiration was build in the **antsys** package, wich takes advantage of *python* flexibility to be easily applied to different optimization problems.\n",
        "<br/><br/>**Installation**\n",
        "<br/>Installation via ```pip```"
      ]
    },
    {
      "cell_type": "code",
      "metadata": {
        "colab": {
          "base_uri": "https://localhost:8080/"
        },
        "id": "mPPn0IsrtsyQ",
        "outputId": "e78bdf51-376d-42ca-cb34-38b07cf5dd4b"
      },
      "source": [
        "!pip3 install antsys"
      ],
      "execution_count": 1,
      "outputs": [
        {
          "output_type": "stream",
          "name": "stdout",
          "text": [
            "Collecting antsys\n",
            "  Downloading antsys-0.1.33.tar.gz (7.5 kB)\n",
            "Requirement already satisfied: numpy in /usr/local/lib/python3.7/dist-packages (from antsys) (1.19.5)\n",
            "Building wheels for collected packages: antsys\n",
            "  Building wheel for antsys (setup.py) ... \u001b[?25l\u001b[?25hdone\n",
            "  Created wheel for antsys: filename=antsys-0.1.33-py3-none-any.whl size=8255 sha256=4941e1206572b5a52bbd968386760ce5d1f29a595e9671c38b6d0e2382c54f7d\n",
            "  Stored in directory: /root/.cache/pip/wheels/cd/b4/8d/a7b18261d13ee31a2949f93146c413bf35904b55696023b547\n",
            "Successfully built antsys\n",
            "Installing collected packages: antsys\n",
            "Successfully installed antsys-0.1.33\n"
          ]
        }
      ]
    },
    {
      "cell_type": "markdown",
      "metadata": {
        "id": "-yA_MBRl1jb5"
      },
      "source": [
        "**Usage Example:** *Knapsack Problem*\n",
        "<br/>The **antsys** package was designed to be easy to apply to different optimization problems. So, the *knapsack problem* was selected as example, since the ACO's application is not straightforward. This problem is based on a situation in which, from a set of objects of different weights and values, you want to fill a *knapsack* obtaining the highest possible value without exceeding its capacity.\n",
        "<br/>1 - Import necessary packages and modules"
      ]
    },
    {
      "cell_type": "code",
      "metadata": {
        "id": "-gv_7lWafdXb"
      },
      "source": [
        "from antsys import AntWorld\n",
        "from antsys import AntSystem\n",
        "import numpy as np\n",
        "import random"
      ],
      "execution_count": 2,
      "outputs": []
    },
    {
      "cell_type": "markdown",
      "metadata": {
        "id": "-LWdnkEI11-A"
      },
      "source": [
        "2 - Generate a knapsack problem instance"
      ]
    },
    {
      "cell_type": "code",
      "metadata": {
        "colab": {
          "base_uri": "https://localhost:8080/"
        },
        "id": "cUBSBkzE15nD",
        "outputId": "1ce817b7-305a-41fa-839c-83956ff885f3"
      },
      "source": [
        "# generate and show knapsack capacity\n",
        "max_weight = random.randint(200,500)\n",
        "print('knapsack max weight =', max_weight)\n",
        "\n",
        "# generate and show available items\n",
        "print('\\navailable items:')\n",
        "print('|item|weight| value|')\n",
        "items = []\n",
        "for i in range(10):\n",
        "  items.append((i, random.randint(50,200), random.randint(100,500)))\n",
        "  print('|%4i|%6i|%6i|' % items[i])"
      ],
      "execution_count": 3,
      "outputs": [
        {
          "output_type": "stream",
          "name": "stdout",
          "text": [
            "knapsack max weight = 471\n",
            "\n",
            "available items:\n",
            "|item|weight| value|\n",
            "|   0|    65|   155|\n",
            "|   1|    65|   458|\n",
            "|   2|    66|   315|\n",
            "|   3|   132|   172|\n",
            "|   4|   184|   421|\n",
            "|   5|   140|   482|\n",
            "|   6|   128|   236|\n",
            "|   7|   180|   362|\n",
            "|   8|    78|   134|\n",
            "|   9|    51|   450|\n"
          ]
        }
      ]
    },
    {
      "cell_type": "markdown",
      "metadata": {
        "id": "Gklp-ZTM2Dju"
      },
      "source": [
        "3 - The function ```knapsack_rules``` will append information to the edges during the world creation. In this case there will be two edges between pairs of nodes, one assigning (```1```) and the other discharging (```0```) the item (```end```) of being included in the knapsack."
      ]
    },
    {
      "cell_type": "code",
      "metadata": {
        "id": "O6e2tPY32IUg"
      },
      "source": [
        "def knapsack_rules(start, end):\n",
        "  return [0, 1]"
      ],
      "execution_count": 4,
      "outputs": []
    },
    {
      "cell_type": "markdown",
      "metadata": {
        "id": "OnYLNreD2MKU"
      },
      "source": [
        "4 - The function ```knapsack_cost``` will be used to calculate the cost of any possible solution (```path```)."
      ]
    },
    {
      "cell_type": "code",
      "metadata": {
        "id": "vuSsFFUC2PH3"
      },
      "source": [
        "def knapsack_cost(path):\n",
        "  k_value = 0\n",
        "  k_weight = 0\n",
        "  for edge in path:\n",
        "    if edge.info == 1:\n",
        "      k_value += edge.end[2]\n",
        "      k_weight += edge.end[1]\n",
        "  cost = 5/k_value+1/k_weight\n",
        "  if k_weight > max_weight:\n",
        "    cost += 1\n",
        "  else:\n",
        "    for edge in path:\n",
        "      if edge.info == 0 and edge.end[1] <= (max_weight-k_weight):\n",
        "        cost += 1\n",
        "  return cost"
      ],
      "execution_count": 5,
      "outputs": []
    },
    {
      "cell_type": "markdown",
      "metadata": {
        "id": "2olVfgbF2YJX"
      },
      "source": [
        "5 - The ```knapsack_heuristic``` is a simple heuristic that will help the ants to make better choices. The probability to choose an item that fits in the remaining capacity of the knapsack will be slightly higher.\n"
      ]
    },
    {
      "cell_type": "code",
      "metadata": {
        "id": "KZVzO1ZO2cVl"
      },
      "source": [
        "def knapsack_heuristic(path, candidate):\n",
        "  k_weight = 0\n",
        "  for edge in path:\n",
        "    if edge.info == 1:\n",
        "      k_weight += edge.end[1]\n",
        "  if candidate.info == 1 and candidate.end[1] < (max_weight-k_weight):\n",
        "    return 0\n",
        "  elif candidate.info == 0:\n",
        "    return 1\n",
        "  else:\n",
        "    return 2"
      ],
      "execution_count": 6,
      "outputs": []
    },
    {
      "cell_type": "markdown",
      "metadata": {
        "id": "zjDbSD3G2iUV"
      },
      "source": [
        "6 - This function shows the details of a possible solution (```path```)."
      ]
    },
    {
      "cell_type": "code",
      "metadata": {
        "id": "mPoeQ0vz2lnl"
      },
      "source": [
        "def print_solution(path):\n",
        "  print('knapsack items:')\n",
        "  print('|item|weight| value|')\n",
        "  value = 0\n",
        "  weight = 0\n",
        "  for edge in path:\n",
        "    if(edge.info == 1):\n",
        "      print('|%4i|%6i|%6i|' % edge.end)\n",
        "      value+=edge.end[2]\n",
        "      weight+=edge.end[1]\n",
        "  print('total weight = %g\\ntotal value = %g' % (weight, value))"
      ],
      "execution_count": 7,
      "outputs": []
    },
    {
      "cell_type": "markdown",
      "metadata": {
        "id": "X2H-Mde42y-b"
      },
      "source": [
        "7 - The world (```new_world```) is created from the nodes (```items```) as a non-complete graph. In this point, ```knapsack_rules```, ```knapsack_cost``` and ```knapscack_heuristic``` are defined as respectively ```r_func```, ```c_func``` and ```h_func```. These functions are bound to the world and the first one has an important role in its structure."
      ]
    },
    {
      "cell_type": "code",
      "metadata": {
        "id": "9O6CDadU20dY"
      },
      "source": [
        "new_world = AntWorld(items, knapsack_rules, knapsack_cost, knapsack_heuristic, False)"
      ],
      "execution_count": 8,
      "outputs": []
    },
    {
      "cell_type": "markdown",
      "metadata": {
        "id": "ZCTNk-11248r"
      },
      "source": [
        "8 - Configure ```ant_opt``` as an ```AntSystem```."
      ]
    },
    {
      "cell_type": "code",
      "metadata": {
        "id": "2wQdu4tr28XV"
      },
      "source": [
        "ant_opt = AntSystem(world=new_world, n_ants=100)"
      ],
      "execution_count": 9,
      "outputs": []
    },
    {
      "cell_type": "markdown",
      "metadata": {
        "id": "VbaA8gW03EIn"
      },
      "source": [
        "9 - Execute the optimization loop."
      ]
    },
    {
      "cell_type": "code",
      "metadata": {
        "colab": {
          "base_uri": "https://localhost:8080/"
        },
        "id": "ICwukjuy3Hqz",
        "outputId": "5e9d83c2-2262-4c57-ae8f-68a821853c8c"
      },
      "source": [
        "ant_opt.optimize(50,30)"
      ],
      "execution_count": 10,
      "outputs": [
        {
          "output_type": "stream",
          "name": "stdout",
          "text": [
            "| iter |         min        |         max        |        best        |\n",
            "|     1|          0.00486647|             1.00663|          0.00486647|\n",
            "|     2|          0.00486647|             2.00592|          0.00486647|\n",
            "|     3|          0.00465806|             3.00636|          0.00465806|\n",
            "|     4|          0.00486647|             2.00627|          0.00465806|\n",
            "|     5|          0.00479821|             1.00663|          0.00465806|\n",
            "|     6|          0.00465806|             1.00663|          0.00465806|\n",
            "|     7|          0.00465806|             2.00666|          0.00465806|\n",
            "|     8|          0.00465806|             2.00592|          0.00465806|\n",
            "|     9|          0.00506792|             4.00665|          0.00465806|\n",
            "|    10|          0.00465806|             2.00592|          0.00465806|\n",
            "|    11|          0.00465806|             1.00663|          0.00465806|\n",
            "|    12|          0.00486647|             1.00663|          0.00465806|\n",
            "|    13|          0.00506792|             2.00709|          0.00465806|\n",
            "|    14|          0.00465806|             2.00651|          0.00465806|\n",
            "|    15|          0.00486647|             1.00651|          0.00465806|\n",
            "|    16|          0.00506792|             2.00624|          0.00465806|\n",
            "|    17|          0.00465806|             1.00663|          0.00465806|\n",
            "|    18|          0.00465806|             2.00634|          0.00465806|\n",
            "|    19|          0.00465806|             2.00654|          0.00465806|\n",
            "|    20|          0.00506792|             1.00663|          0.00465806|\n",
            "|    21|          0.00479821|             6.00836|          0.00465806|\n",
            "|    22|          0.00465806|             2.00709|          0.00465806|\n",
            "|    23|          0.00465806|             1.00663|          0.00465806|\n",
            "|    24|          0.00465806|             2.00654|          0.00465806|\n",
            "|    25|          0.00465806|             2.00722|          0.00465806|\n",
            "|    26|          0.00465806|             3.00757|          0.00465806|\n",
            "|    27|          0.00486647|             2.00651|          0.00465806|\n",
            "|    28|          0.00465806|             2.00624|          0.00465806|\n",
            "|    29|          0.00486647|             2.00775|          0.00465806|\n",
            "|    30|          0.00479821|             2.00654|          0.00465806|\n",
            "|    31|          0.00465806|             1.00633|          0.00465806|\n",
            "|    32|          0.00486647|             2.00709|          0.00465806|\n",
            "|    33|          0.00479821|             2.00722|          0.00465806|\n"
          ]
        }
      ]
    },
    {
      "cell_type": "markdown",
      "metadata": {
        "id": "H5tpCBSa3OWd"
      },
      "source": [
        "10 - Show details about the best solution found."
      ]
    },
    {
      "cell_type": "code",
      "metadata": {
        "colab": {
          "base_uri": "https://localhost:8080/"
        },
        "id": "H5ywlSjz3RzP",
        "outputId": "f0c9a17e-635d-4543-e6f1-1d4d59d5c842"
      },
      "source": [
        "print('\\nknapsack max weight =', max_weight)\n",
        "print_solution(ant_opt.g_best[2])"
      ],
      "execution_count": 11,
      "outputs": [
        {
          "output_type": "stream",
          "name": "stdout",
          "text": [
            "\n",
            "knapsack max weight = 471\n",
            "knapsack items:\n",
            "|item|weight| value|\n",
            "|   8|    78|   134|\n",
            "|   9|    51|   450|\n",
            "|   0|    65|   155|\n",
            "|   1|    65|   458|\n",
            "|   2|    66|   315|\n",
            "|   5|   140|   482|\n",
            "total weight = 465\n",
            "total value = 1994\n"
          ]
        }
      ]
    }
  ]
}